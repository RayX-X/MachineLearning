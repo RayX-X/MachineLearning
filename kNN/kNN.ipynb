{
 "cells": [
  {
   "cell_type": "markdown",
   "metadata": {},
   "source": [
    "### 最简单的kNN Demo "
   ]
  },
  {
   "cell_type": "code",
   "execution_count": 1,
   "metadata": {},
   "outputs": [],
   "source": [
    "import numpy as np\n",
    "import operator\n",
    "# https://blog.csdn.net/zhtysw/article/details/80510113 关于operator的用法"
   ]
  },
  {
   "cell_type": "markdown",
   "metadata": {},
   "source": [
    "### 创建一组待标签的数组"
   ]
  },
  {
   "cell_type": "code",
   "execution_count": 2,
   "metadata": {},
   "outputs": [],
   "source": [
    "group = np.array([[1.0, 1.1], [1.0, 1.0], [0, 0], [0, 0.1]])\n",
    "lables = ['A', 'A', 'B', 'B']"
   ]
  },
  {
   "cell_type": "markdown",
   "metadata": {},
   "source": [
    "### 实现kNN"
   ]
  },
  {
   "cell_type": "code",
   "execution_count": 3,
   "metadata": {},
   "outputs": [],
   "source": [
    "def classify_data(indata, traindata, labels, k):\n",
    "    \"\"\"\n",
    "    :param indata: 输入\n",
    "    :param traindata: 原有数据\n",
    "    :param labels: 分类标签\n",
    "    :param k: k\n",
    "    :return:\n",
    "    np.tile 就是把dataSize看成一个整体，然后复制若干遍(x, (2,3))即 [[x,x,x],[x,x,x]\n",
    "    array.sum(axis=0/1)  0 即普通的相加 1 为每一行向量相加\n",
    "    numpy.argsort(a,axis=0/1) 对数组a排序，返回一个排序后索引，a不变 0 按行 1 按排\n",
    "    shorted() 可以对列表临时排序小到大 reverse=True 则反转\n",
    "    iteritems() 返回一个迭代器 items()，将一个字典以列表的形式返回。\n",
    "    itemgetter函数用于获取对象的哪些维的数据，参数为一些序号 获取的不是值，而是定义了一个函数\n",
    "    \"\"\"\n",
    "    dataSize = traindata.shape[0]\n",
    "    diffMat = np.tile(indata, (dataSize, 1)) - traindata\n",
    "    sq_diffMat = diffMat**2\n",
    "    sq_distances = sq_diffMat.sum(axis=1)\n",
    "    distances = sq_distances**0.5\n",
    "    short_diseances = np.argsort(distances)\n",
    "    # 以上计算距离 以下选取距离最小的k个点\n",
    "    count = {}\n",
    "    for i in range(k):\n",
    "        voteLabel = labels[short_diseances[i]]\n",
    "        count[voteLabel] = count.get(voteLabel, 0) +1\n",
    "    # 排序\n",
    "    short_count = sorted(count.items(), key=operator.itemgetter(1), reverse=True)\n",
    "    return short_count[0][0]"
   ]
  },
  {
   "cell_type": "markdown",
   "metadata": {},
   "source": [
    "### 测试 "
   ]
  },
  {
   "cell_type": "code",
   "execution_count": 5,
   "metadata": {},
   "outputs": [
    {
     "data": {
      "text/plain": [
       "'B'"
      ]
     },
     "execution_count": 5,
     "metadata": {},
     "output_type": "execute_result"
    }
   ],
   "source": [
    "a = classify_data([0, 0], group, lables, 3)\n",
    "a"
   ]
  },
  {
   "cell_type": "code",
   "execution_count": 6,
   "metadata": {},
   "outputs": [
    {
     "data": {
      "text/plain": [
       "'B'"
      ]
     },
     "execution_count": 6,
     "metadata": {},
     "output_type": "execute_result"
    }
   ],
   "source": [
    "b = classify_data([1, 0], group, lables, 3)\n",
    "b"
   ]
  },
  {
   "cell_type": "code",
   "execution_count": 7,
   "metadata": {},
   "outputs": [
    {
     "data": {
      "text/plain": [
       "'A'"
      ]
     },
     "execution_count": 7,
     "metadata": {},
     "output_type": "execute_result"
    }
   ],
   "source": [
    "c = classify_data([3, 0], group, lables, 4)\n",
    "c"
   ]
  },
  {
   "cell_type": "code",
   "execution_count": 13,
   "metadata": {},
   "outputs": [
    {
     "data": {
      "text/plain": [
       "'A'"
      ]
     },
     "execution_count": 13,
     "metadata": {},
     "output_type": "execute_result"
    }
   ],
   "source": [
    "d = classify_data([0, ], group, lables, 3)\n",
    "d"
   ]
  },
  {
   "cell_type": "markdown",
   "metadata": {},
   "source": [
    "格式化输出"
   ]
  },
  {
   "cell_type": "code",
   "execution_count": 24,
   "metadata": {},
   "outputs": [],
   "source": [
    "from os import listdir, path\n",
    "import sys\n",
    "import time"
   ]
  },
  {
   "cell_type": "code",
   "execution_count": 25,
   "metadata": {},
   "outputs": [],
   "source": [
    "def super_print(classifier_result, num, i):\n",
    "    \"\"\"\n",
    "    这个输出比较好看 也能用于输出训练过程\n",
    "    :param classifier_result: 分类器分类结果\n",
    "    :param num: 实际值\n",
    "    :param i: 第几次\n",
    "    :return:\n",
    "    \"\"\"\n",
    "    r = \"\\r分类器结果: %d, 实际值: %d， 第%d次测试\" % (classifier_result, num, i)\n",
    "    # r = '\\rstep-%d loss value-%.4f[%s%s]\\t%d%% %d/%d' % \\\n",
    "    # (step, loss, '>' * rate_num, '-' * (40 - rate_num), int(rate * 100), step, total)\n",
    "    sys.stdout.write(r)\n",
    "    sys.stdout.flush()  # 刷新 windows 下可有可无 Lunix 下必须要有"
   ]
  },
  {
   "cell_type": "code",
   "execution_count": 26,
   "metadata": {},
   "outputs": [],
   "source": [
    "def img2vector(filename):\n",
    "    \"\"\"\n",
    "    创建1x1024 (32x32) 的数组 将数据传入数组组成一行向量\n",
    "    :param filename: 文件地址\n",
    "    :return: 向量\n",
    "    \"\"\"\n",
    "    vec = np.zeros((1, 1024))\n",
    "    f = open(filename)\n",
    "    for i in range(32):\n",
    "        line_str = f.readline()\n",
    "        for j in range(32):\n",
    "            vec[0, 32 * i + j] = int(line_str[j])\n",
    "    return vec"
   ]
  },
  {
   "cell_type": "code",
   "execution_count": 27,
   "metadata": {},
   "outputs": [],
   "source": [
    "def handwriting():\n",
    "    \"\"\"\n",
    "    手写识别\n",
    "    :return:\n",
    "    \"\"\"\n",
    "    labels = []\n",
    "    train_list = listdir('digits/trainingDigits')  # load the training set\n",
    "    m = len(train_list)\n",
    "    train_mat = np.zeros((m, 1024))\n",
    "    for i in range(m):\n",
    "        file_name = train_list[i]\n",
    "        file_str = path.splitext(file_name)[0]  # take off .txt\n",
    "        num = int(file_str.split('_')[0])\n",
    "        labels.append(num)\n",
    "        train_mat[i, :] = img2vector('digits/trainingDigits/%s' % file_name)\n",
    "\n",
    "    test_list = listdir('digits/testDigits')  # iterate through the test set\n",
    "    error_count = 0.0\n",
    "    m_test = len(test_list)\n",
    "    for i in range(m_test):\n",
    "        file_name = test_list[i]\n",
    "        file_str = path.splitext(file_name)[0]  # take off .txt\n",
    "        num = int(file_str.split('_')[0])\n",
    "        vec_test = img2vector('digits/testDigits/%s' % file_name)\n",
    "        classifier_result = classify_data(vec_test, train_mat, labels, 3)\n",
    "\n",
    "        super_print(classifier_result, num, i)\n",
    "\n",
    "        time.sleep(0.001)\n",
    "        if classifier_result != num:\n",
    "            print(\"\\r错误的分类器结果: %d, 实际值: %d， 第%d次测试\" % (classifier_result, num, i))\n",
    "            error_count += 1.0\n",
    "\n",
    "    print(\"\\n错误的次数: %d\" % error_count, \"错误率: %f\" % (error_count / float(m_test)))\n"
   ]
  },
  {
   "cell_type": "code",
   "execution_count": 29,
   "metadata": {},
   "outputs": [
    {
     "name": "stdout",
     "output_type": "stream",
     "text": [
      "错误的分类器结果: 7, 实际值: 1， 第172次测试\n",
      "错误的分类器结果: 9, 实际值: 3， 第279次测试\n",
      "错误的分类器结果: 3, 实际值: 5， 第520次测试\n",
      "错误的分类器结果: 6, 实际值: 5， 第521次测试\n",
      "错误的分类器结果: 6, 实际值: 8， 第769次测试\n",
      "错误的分类器结果: 3, 实际值: 8， 第782次测试\n",
      "错误的分类器结果: 1, 实际值: 8， 第796次测试\n",
      "错误的分类器结果: 1, 实际值: 8， 第806次测试\n",
      "错误的分类器结果: 1, 实际值: 9， 第863次测试\n",
      "错误的分类器结果: 7, 实际值: 9， 第914次测试\n",
      "分类器结果: 9, 实际值: 9， 第945次测试\n",
      "错误的次数: 10 错误率: 0.010571\n"
     ]
    }
   ],
   "source": [
    "handwriting()"
   ]
  },
  {
   "cell_type": "code",
   "execution_count": null,
   "metadata": {},
   "outputs": [],
   "source": []
  }
 ],
 "metadata": {
  "kernelspec": {
   "display_name": "Python 3",
   "language": "python",
   "name": "python3"
  },
  "language_info": {
   "codemirror_mode": {
    "name": "ipython",
    "version": 3
   },
   "file_extension": ".py",
   "mimetype": "text/x-python",
   "name": "python",
   "nbconvert_exporter": "python",
   "pygments_lexer": "ipython3",
   "version": "3.7.3"
  }
 },
 "nbformat": 4,
 "nbformat_minor": 2
}
