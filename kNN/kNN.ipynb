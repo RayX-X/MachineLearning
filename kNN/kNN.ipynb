{
 "cells": [
  {
   "cell_type": "markdown",
   "metadata": {},
   "source": [
    "### 最简单的kNN Demo "
   ]
  },
  {
   "cell_type": "code",
   "execution_count": 1,
   "metadata": {},
   "outputs": [],
   "source": [
    "import numpy as np\n",
    "import operator\n",
    "# https://blog.csdn.net/zhtysw/article/details/80510113 关于operator的用法"
   ]
  },
  {
   "cell_type": "markdown",
   "metadata": {},
   "source": [
    "### 创建一组待标签的数组"
   ]
  },
  {
   "cell_type": "code",
   "execution_count": 2,
   "metadata": {},
   "outputs": [],
   "source": [
    "group = np.array([[1.0, 1.1], [1.0, 1.0], [0, 0], [0, 0.1]])\n",
    "lables = ['A', 'A', 'B', 'B']"
   ]
  },
  {
   "cell_type": "markdown",
   "metadata": {},
   "source": [
    "### 实现kNN"
   ]
  },
  {
   "cell_type": "code",
   "execution_count": 3,
   "metadata": {},
   "outputs": [],
   "source": [
    "def classify_data(indata, traindata, labels, k):\n",
    "    \"\"\"\n",
    "    :param indata: 输入\n",
    "    :param traindata: 原有数据\n",
    "    :param labels: 分类标签\n",
    "    :param k: k\n",
    "    :return:\n",
    "    np.tile 就是把dataSize看成一个整体，然后复制若干遍(x, (2,3))即 [[x,x,x],[x,x,x]\n",
    "    array.sum(axis=0/1)  0 即普通的相加 1 为每一行向量相加\n",
    "    numpy.argsort(a,axis=0/1) 对数组a排序，返回一个排序后索引，a不变 0 按行 1 按排\n",
    "    shorted() 可以对列表临时排序小到大 reverse=True 则反转\n",
    "    iteritems() 返回一个迭代器 items()，将一个字典以列表的形式返回。\n",
    "    itemgetter函数用于获取对象的哪些维的数据，参数为一些序号 获取的不是值，而是定义了一个函数\n",
    "    \"\"\"\n",
    "    dataSize = traindata.shape[0]\n",
    "    diffMat = np.tile(indata, (dataSize, 1)) - traindata\n",
    "    sq_diffMat = diffMat**2\n",
    "    sq_distances = sq_diffMat.sum(axis=1)\n",
    "    distances = sq_distances**0.5\n",
    "    short_diseances = np.argsort(distances)\n",
    "    # 以上计算距离 以下选取距离最小的k个点\n",
    "    count = {}\n",
    "    for i in range(k):\n",
    "        voteLabel = labels[short_diseances[i]]\n",
    "        count[voteLabel] = count.get(voteLabel, 0) +1\n",
    "    # 排序\n",
    "    short_count = sorted(count.items(), key=operator.itemgetter(1), reverse=True)\n",
    "    return short_count[0][0]"
   ]
  },
  {
   "cell_type": "markdown",
   "metadata": {},
   "source": [
    "### 测试 "
   ]
  },
  {
   "cell_type": "code",
   "execution_count": 5,
   "metadata": {},
   "outputs": [
    {
     "data": {
      "text/plain": [
       "'B'"
      ]
     },
     "execution_count": 5,
     "metadata": {},
     "output_type": "execute_result"
    }
   ],
   "source": [
    "a = classify_data([0, 0], group, lables, 3)\n",
    "a"
   ]
  },
  {
   "cell_type": "code",
   "execution_count": 6,
   "metadata": {},
   "outputs": [
    {
     "data": {
      "text/plain": [
       "'B'"
      ]
     },
     "execution_count": 6,
     "metadata": {},
     "output_type": "execute_result"
    }
   ],
   "source": [
    "b = classify_data([1, 0], group, lables, 3)\n",
    "b"
   ]
  },
  {
   "cell_type": "code",
   "execution_count": 7,
   "metadata": {},
   "outputs": [
    {
     "data": {
      "text/plain": [
       "'A'"
      ]
     },
     "execution_count": 7,
     "metadata": {},
     "output_type": "execute_result"
    }
   ],
   "source": [
    "c = classify_data([3, 0], group, lables, 4)\n",
    "c"
   ]
  },
  {
   "cell_type": "code",
   "execution_count": 13,
   "metadata": {},
   "outputs": [
    {
     "data": {
      "text/plain": [
       "'A'"
      ]
     },
     "execution_count": 13,
     "metadata": {},
     "output_type": "execute_result"
    }
   ],
   "source": [
    "d = classify_data([0, ], group, lables, 3)\n",
    "d"
   ]
  },
  {
   "cell_type": "code",
   "execution_count": 10,
   "metadata": {},
   "outputs": [
    {
     "name": "stdout",
     "output_type": "stream",
     "text": [
      "B B A\n"
     ]
    }
   ],
   "source": [
    "print(a , b, c)"
   ]
  },
  {
   "cell_type": "code",
   "execution_count": null,
   "metadata": {},
   "outputs": [],
   "source": []
  }
 ],
 "metadata": {
  "kernelspec": {
   "display_name": "Python 3",
   "language": "python",
   "name": "python3"
  },
  "language_info": {
   "codemirror_mode": {
    "name": "ipython",
    "version": 3
   },
   "file_extension": ".py",
   "mimetype": "text/x-python",
   "name": "python",
   "nbconvert_exporter": "python",
   "pygments_lexer": "ipython3",
   "version": "3.7.3"
  }
 },
 "nbformat": 4,
 "nbformat_minor": 2
}
